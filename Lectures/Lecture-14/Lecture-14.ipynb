{
 "cells": [
  {
   "cell_type": "markdown",
   "metadata": {},
   "source": [
    "## Scaling/Shifting\n",
    "\n",
    "In the beginning of Lab 4 you are asked to take random numbers between 0 and 1 and scale and shift them to be between $x_{min}$ and $x_{max}$. The formula is pretty basic. If $x_0$ is between 0 and 1 then $x$ computed as:\n",
    "$$\n",
    "x= (x_{max}-x_{min}) x_0 + x_{min}\n",
    "$$\n",
    "will be between $x_{min}$ and $x_{max}$. \n",
    "\n",
    "In your solution, you'll most likely generate $x_0$ one by one, compute $x$, and store $x$ into a list to be returned from your function.\n"
   ]
  },
  {
   "cell_type": "markdown",
   "metadata": {},
   "source": [
    "## Mean/Variance\n",
    "\n",
    "Also for lab 4, remember the equations for mean/variance. If you have a data sample ${x_1, x_2, ..., x_N}$ the mean is:\n",
    "\n",
    "$$ \n",
    "\\bar{x} = \\frac{1}{N}\\sum_{i=1}^{N} x_i\n",
    "$$\n",
    "\n",
    "and the variance is:\n",
    "\n",
    "$$\n",
    "<x^2> = \\frac{1}{N-1} \\sum_{i=1}^{N} (x_i - \\bar{x})^2\n",
    "$$\n"
   ]
  },
  {
   "cell_type": "markdown",
   "metadata": {},
   "source": [
    "## Histogram\n",
    "\n",
    "In Lab 4 you are asked to write a histogram function:\n",
    "\n",
    "* User inputs a list of values `x` and optionally `n_bins` which defaults to 10.\n",
    "* If not supplied, find the minimum and maximum (`x_min`,`x_max`) of the values in x.\n",
    "* Determine the bin size (`bin_size`) by dividing the range of the function by the number of bins.\n",
    "* Create an empty list of zeros of size `n_bins`, call it `hist`.\n",
    "* Loop over the values in `x`\n",
    "    * Loop over the values in `hist` with index `i`:\n",
    "        * If x is between `x_min+i*bin_size` and `x_min+(i+1)*bin_size`, increment `hist[i].` \n",
    "        * For efficiency, try to use continue to goto the next bin and data point.\n",
    "* Return `hist` and the list corresponding of the bin edges (i.e. of `x_min+i*bin_size`).    \n",
    "\n",
    "\n"
   ]
  },
  {
   "cell_type": "markdown",
   "metadata": {},
   "source": [
    "## Functional Programming\n",
    "\n",
    "In lab 3 you built a tic-tac-toe game by implementing a series of functions that performed various tasks, which you then combined in various ways to implement the game logic. What you wrote was a *structured program*, which consist of sequences of instructions, utilizing control flow (if/then/else), repetition (while and for), block structures, and function calls. \n",
    "\n",
    "*Functional Programming* is another style of programming that is not well suited to writing games, but is well suited to manipulating data. A function program performs computation by evaluating mathematical functions, where the output only depend on the input. Data passes through as inputs/outputs of functions, but is otherwise never changed. This paradigm is often used in data science because manipulation of data can othen be viewed as composition of functions:\n",
    "\n",
    "$$\n",
    "D_{result} = f_n(f_{n-1}(...(f_0(D_{input}))))\n",
    "$$\n",
    "\n",
    "Consider the `find_min` example from last lecture:"
   ]
  },
  {
   "cell_type": "code",
   "execution_count": 15,
   "metadata": {},
   "outputs": [],
   "source": [
    "def a_function(x):\n",
    "    return (1+x)**2\n",
    "\n",
    "def find_min_0(f,x_min,x_max,steps=10):\n",
    "    step_size=(x_max-x_min)/steps\n",
    "    x=x_min\n",
    "    y_min=f(x_min)\n",
    "    x_min_val=x_min\n",
    "\n",
    "    for i in range(steps):\n",
    "        y=f(x)\n",
    "        if y<y_min:\n",
    "            x_min_val=x\n",
    "            y_min=y\n",
    "        x+=step_size\n",
    "    \n",
    "    return x_min_val"
   ]
  },
  {
   "cell_type": "code",
   "execution_count": 22,
   "metadata": {},
   "outputs": [
    {
     "data": {
      "text/plain": [
       "-1.000000000000002"
      ]
     },
     "execution_count": 22,
     "metadata": {},
     "output_type": "execute_result"
    }
   ],
   "source": [
    "find_min_0(a_function,-10,10,100)"
   ]
  },
  {
   "cell_type": "markdown",
   "metadata": {},
   "source": [
    "Lets write the same thing in a more functional way by realizing that we can perform the same task as a set of composition of functions:"
   ]
  },
  {
   "cell_type": "code",
   "execution_count": 44,
   "metadata": {},
   "outputs": [],
   "source": [
    "def a_range(x_min,x_max,steps=10):\n",
    "    x=x_min\n",
    "    step_size=(x_max-x_min)/steps\n",
    "    out=list()\n",
    "    while x<x_max:\n",
    "        out.append(x)\n",
    "        x+=step_size\n",
    "    return out\n",
    "\n",
    "def arg_min(lst):\n",
    "    min_val=lst[0]\n",
    "    min_index=0\n",
    "    for i,val in enumerate(lst):\n",
    "        if val<min_val:\n",
    "            min_val=val\n",
    "            min_index=i\n",
    "            \n",
    "    return min_index\n",
    "\n",
    "def find_min(f,x_min,x_max,steps=10):\n",
    "    x_vals=a_range(x_min,x_max,steps)\n",
    "    y_vals=list(map(f,x_vals))\n",
    "    index=arg_min(y_vals)\n",
    "    return x_vals[index]\n",
    "\n"
   ]
  },
  {
   "cell_type": "code",
   "execution_count": 45,
   "metadata": {},
   "outputs": [
    {
     "data": {
      "text/plain": [
       "-1.000000000000002"
      ]
     },
     "execution_count": 45,
     "metadata": {},
     "output_type": "execute_result"
    }
   ],
   "source": [
    "find_min(a_function,-10,10,100)"
   ]
  },
  {
   "cell_type": "markdown",
   "metadata": {},
   "source": [
    "Note that `find_min` can be as a single evaluation:"
   ]
  },
  {
   "cell_type": "code",
   "execution_count": 20,
   "metadata": {},
   "outputs": [],
   "source": [
    "def find_min(f,x_min,x_max,steps=10):\n",
    "    return a_range(x_min,x_max,steps)[arg_min(list(map(f,a_range(x_min,x_max,steps))))]\n"
   ]
  },
  {
   "cell_type": "markdown",
   "metadata": {},
   "source": [
    "We could have implemented `a_range` and `arg_min` the same way, but instead of while loops use recursion:"
   ]
  },
  {
   "cell_type": "code",
   "execution_count": 35,
   "metadata": {},
   "outputs": [],
   "source": [
    "def a_range(x_min,x_max,steps=10):\n",
    "    if steps>1:\n",
    "        return [x_min] + a_range(x_min+((x_max-x_min)/steps),x_max,steps-1)\n",
    "    else:\n",
    "        return [x_min]\n",
    "        "
   ]
  },
  {
   "cell_type": "markdown",
   "metadata": {},
   "source": [
    "We are not going to write functions this way, but the idea is to get familiar with seeing data manipulations as a composition of functions."
   ]
  },
  {
   "cell_type": "markdown",
   "metadata": {},
   "source": [
    "## Linear Algebra\n",
    "\n",
    "Linear Algebra was invented to solve equations like this:\n",
    "\n",
    "\\begin{align}\n",
    "4 x_1 + 5 x_2 &=& 12\\\\\n",
    "-2 x_1 - x_2 &=& 2\n",
    "\\end{align}\n",
    "\n",
    "by representing them as matrices like this:\n",
    "\n",
    "\\begin{equation*}\n",
    "\\begin{pmatrix}\n",
    "4 & 5 & 12\\\\\n",
    "-2 & -1 & 2\n",
    "\\end{pmatrix}\n",
    "\\end{equation*}\n",
    "\n",
    "or\n",
    "\n",
    "\\begin{equation*}\n",
    "A = \\begin{pmatrix} 4 & 5 \\\\ -2 & -1\\end{pmatrix}, \n",
    "\\vec{x} = \\begin{pmatrix} x_1 \\\\ x_2\\end{pmatrix}, \n",
    "\\vec{y} = \\begin{pmatrix} 12 \\\\2 \\end{pmatrix},\n",
    "\\end{equation*}\n",
    "\n",
    "\\begin{equation*}\n",
    "A\\vec{x}=\\vec{y} \\Rightarrow \\vec{x}=A^{-1} \\vec{y}\n",
    "\\end{equation*}\n",
    "\n",
    "Where $A^{-1}$ is the inverse of $A$, which if the equations are not linearly dependent can be computed algorithmically.\n",
    "\n",
    "\\begin{equation*}\n",
    "\\end{equation*}"
   ]
  },
  {
   "cell_type": "markdown",
   "metadata": {},
   "source": [
    "## Properties of Matrices\n",
    "$$\n",
    "(AB)C=A(BC)\n",
    "$$\n",
    "$$\n",
    "A(B+C)=AB+AC\n",
    "$$\n",
    "$$\n",
    "AB\\neq BA\n",
    "$$\n",
    "$$\n",
    "AI=A\n",
    "$$"
   ]
  },
  {
   "cell_type": "markdown",
   "metadata": {},
   "source": [
    "## Matrix Elements\n",
    "Consider an arbitrary matrix $A$:\n",
    "\n",
    "\\begin{equation*}\n",
    "A_{m,n} = \n",
    " \\begin{pmatrix}\n",
    "  a_{11} & a_{12} & \\cdots & a_{1n} \\\\\n",
    "  a_{21} & a_{22} & \\cdots & a_{2n} \\\\\n",
    "  \\vdots  & \\vdots  & \\ddots & \\vdots\\\\\n",
    "  a_{m1} & a_{m2} & \\cdots & a_{mn} \n",
    "\\end{pmatrix}\n",
    "\\end{equation*}\n",
    "\n",
    "we define the columns as $a_j=A_{:,j}$:\n",
    "\n",
    "\\begin{pmatrix} \n",
    "| & | &  &|\\\\\n",
    "a_1 & a_2 & \\dots &\\ a_n\\\\\n",
    "| & | &  &|\n",
    "\\end{pmatrix}\n",
    "\n",
    "and rows $a^T_i = A_{i,:}$:\n",
    "\n",
    "\\begin{pmatrix} \n",
    "- & a^T_1 & -\\\\\n",
    "- & a^T_2 & -\\\\\n",
    " & \\vdots & \\\\\n",
    "- & a^T_3 & -\\\\\n",
    "\\end{pmatrix}\n"
   ]
  },
  {
   "cell_type": "markdown",
   "metadata": {},
   "source": [
    "# Matrix Operations\n",
    "\n",
    "* Transpose: $(A^T)_{ij} = A_{ji}$\n",
    "* Sum (elementwise): $C_{ij} = A_{ij} + B_{ij}$\n",
    "* Elementwise product: $C_{ij} = A_{ij} B_{ij}$\n",
    "* Matrix product: $C=A \\cdot B$: $C_{ij} = \\sum_{k} A_{ik} B_{kj}$.\n",
    "   * Note than if size of $A$ is $n \\times m$ then $B$ has to be of size $m \\times k$ and the resulting matrix will be of size $n \\times k$.\n",
    "   * Good way to visualize product:\n",
    "    \\begin{equation*}\n",
    "    AB=\n",
    "\\begin{pmatrix} \n",
    "- & a_1 & -\\\\\n",
    "- & a_2 & -\\\\\n",
    " & \\vdots & \\\\\n",
    "- & a_m & -\\\\\n",
    "\\end{pmatrix} \n",
    "\\begin{pmatrix} \n",
    "| & | &  &|\\\\\n",
    "b_1 & b_2 & \\dots &\\ b_n\\\\\n",
    "| & | &  &|\n",
    "\\end{pmatrix}=\n",
    "\\begin{pmatrix}\n",
    "a^T_1b_1 & a^T_1b_2 & \\dots & a^T_1b_n\\\\\n",
    "a^T_2b_1 & a^T_2b_2 & \\dots & a^T_2b_n\\\\\n",
    "\\vdots & \\vdots & \\ddots & \\vdots \\\\\n",
    "a^T_mb_1 & a^T_mb_2 & \\dots & a^T_mb_n\n",
    "\\end{pmatrix}\n",
    "\\end{equation*}"
   ]
  },
  {
   "cell_type": "markdown",
   "metadata": {},
   "source": [
    "$A$ is $m_1$ by $n_1$ and $B$ is  $m_2$ by $n_2$ then you can multiply ($AB$) if $n_1=m_2$."
   ]
  },
  {
   "cell_type": "markdown",
   "metadata": {},
   "source": [
    "## Vector Products\n",
    "\n",
    "* Dot product: $x\\cdot y = x^T y = \\sum_{i=1}^n x_i y_i$\n",
    "* Other product: \n",
    "\\begin{equation*}\n",
    "\\begin{pmatrix} x_1\\\\x_2\\\\ \\vdots \\\\x_m \\end{pmatrix} \\begin{pmatrix} y_1&y_2& \\dots &y_n\\end{pmatrix} =\n",
    "\\begin{pmatrix}\n",
    "x_1y_1 & x_1y_2 & \\dots & x_1y_n\\\\\n",
    "x_2y_1 & x_2y_2 & \\dots & x_2y_n\\\\\n",
    "\\vdots & \\vdots & \\ddots & \\vdots \\\\\n",
    "x_my_1 & x_my_2 & \\dots & x_my_n\n",
    "\\end{pmatrix}\n",
    "\\end{equation*}\n"
   ]
  },
  {
   "cell_type": "markdown",
   "metadata": {},
   "source": [
    "## Norms\n",
    "* $l=1$ Norm: $\\parallel x \\parallel_1 = \\sum_{i=1}^{n}|x_i|$\n",
    "* $l=2$ Norm: $\\parallel x \\parallel_2 = \\sqrt{\\sum_{i=1}^{n}x_i^2}$\n",
    "* $l=p$ Norm: $\\parallel x \\parallel_p = \\left(\\sum_{i=1}^{n}x_i^p\\right)^\\frac{1}{p}$\n",
    "* $l=\\infty$ Norm: $\\parallel x \\parallel_\\infty = \\max_i |x_i|$\n",
    "* Law of cosines: $x \\cdot y = \\parallel x \\parallel_2 \\parallel y \\parallel_2 \\cos{\\theta}$\n"
   ]
  },
  {
   "cell_type": "markdown",
   "metadata": {},
   "source": [
    "## Linear Independence\n",
    "Given vectors \n",
    "$$\n",
    "\\{\\vec{x}_1,\\vec{x}_2,\\dots,\\vec{x}_n\\},\n",
    "$$\n",
    "a linear combination of these vectors is\n",
    "$$\n",
    "\\sum_{i=0}^{n}=c_i \\vec{x}_i=\\begin{pmatrix} \n",
    "| & | &  &|\\\\\n",
    "\\vec{x}_1 & \\vec{x}_2 & \\dots &\\ \\vec{x}_n\\\\\n",
    "| & | &  &|\n",
    "\\end{pmatrix}\n",
    "\\begin{pmatrix} \n",
    "c_1\\\\\n",
    "c_2\\\\\n",
    "\\vdots\\\\\n",
    "c_n\n",
    "\\end{pmatrix}\n",
    "$$\n",
    "where $\\{c_1,c_2,\\dots,c_n\\}$ are a set of coefficients (a single number, not a vector). \n",
    "\n",
    "A vector $\\vec{y}$ is linearly independent from the set $\\{\\vec{x}_i\\}$ if $\\vec{y}$ cannot be written as a linear combination of $\\{\\vec{x}_i\\}$. "
   ]
  },
  {
   "cell_type": "markdown",
   "metadata": {},
   "source": [
    "## Matrix Inverse\n",
    "\n",
    "[Simple Algorithm For Inverse](http://www.irma-international.org/viewtitle/41011/)"
   ]
  },
  {
   "cell_type": "markdown",
   "metadata": {},
   "source": [
    "## Implementing Matrix Operations"
   ]
  },
  {
   "cell_type": "code",
   "execution_count": 1,
   "metadata": {},
   "outputs": [],
   "source": [
    "def zero_matrix(m,n):\n",
    "    return [ [0 for _ in range(m)] for _ in range(n)]"
   ]
  },
  {
   "cell_type": "code",
   "execution_count": 2,
   "metadata": {},
   "outputs": [],
   "source": [
    "def zero_matrix(m,n):\n",
    "    out=list()\n",
    "    for i in range(m):\n",
    "        row=list()\n",
    "        for j in range(n):\n",
    "            row.append(0.)\n",
    "        out.append(row)\n",
    "    return out"
   ]
  },
  {
   "cell_type": "code",
   "execution_count": 3,
   "metadata": {},
   "outputs": [
    {
     "data": {
      "text/plain": [
       "[[0.0, 0.0, 0.0, 0.0, 0.0, 0.0, 0.0, 0.0, 0.0, 0.0],\n",
       " [0.0, 0.0, 0.0, 0.0, 0.0, 0.0, 0.0, 0.0, 0.0, 0.0],\n",
       " [0.0, 0.0, 0.0, 0.0, 0.0, 0.0, 0.0, 0.0, 0.0, 0.0],\n",
       " [0.0, 0.0, 0.0, 0.0, 0.0, 0.0, 0.0, 0.0, 0.0, 0.0],\n",
       " [0.0, 0.0, 0.0, 0.0, 0.0, 0.0, 0.0, 0.0, 0.0, 0.0]]"
      ]
     },
     "execution_count": 3,
     "metadata": {},
     "output_type": "execute_result"
    }
   ],
   "source": [
    "zero_matrix(5,10)"
   ]
  },
  {
   "cell_type": "code",
   "execution_count": 4,
   "metadata": {},
   "outputs": [],
   "source": [
    "def is_matrix(M):\n",
    "    if isinstance(M,list):\n",
    "        row_length=len(M[0])\n",
    "        for row in M:\n",
    "            if not row_length==len(row):\n",
    "                return False\n",
    "    else:\n",
    "        False\n",
    "    return True\n",
    "        "
   ]
  },
  {
   "cell_type": "code",
   "execution_count": 5,
   "metadata": {},
   "outputs": [
    {
     "data": {
      "text/plain": [
       "True"
      ]
     },
     "execution_count": 5,
     "metadata": {},
     "output_type": "execute_result"
    }
   ],
   "source": [
    "is_matrix(zero_matrix(10,4))"
   ]
  },
  {
   "cell_type": "code",
   "execution_count": 6,
   "metadata": {},
   "outputs": [
    {
     "data": {
      "text/plain": [
       "False"
      ]
     },
     "execution_count": 6,
     "metadata": {},
     "output_type": "execute_result"
    }
   ],
   "source": [
    "is_matrix( [[ 2,3],[1,2,3]])"
   ]
  },
  {
   "cell_type": "code",
   "execution_count": 7,
   "metadata": {},
   "outputs": [],
   "source": [
    "def matrix_shape(M):\n",
    "    if is_matrix(M):\n",
    "        m=len(M)\n",
    "        n=len(M[0])\n",
    "        return m,n\n",
    "    else:\n",
    "        0,0"
   ]
  },
  {
   "cell_type": "code",
   "execution_count": 9,
   "metadata": {},
   "outputs": [
    {
     "data": {
      "text/plain": [
       "(10, 5)"
      ]
     },
     "execution_count": 9,
     "metadata": {},
     "output_type": "execute_result"
    }
   ],
   "source": [
    "matrix_shape(zero_matrix(10,5))"
   ]
  },
  {
   "cell_type": "code",
   "execution_count": 10,
   "metadata": {},
   "outputs": [],
   "source": [
    "def is_square_matrix(M):\n",
    "    m,n=matrix_shape(M)\n",
    "    if m==0 or n==0:\n",
    "        return False\n",
    "    return m==n"
   ]
  },
  {
   "cell_type": "code",
   "execution_count": 12,
   "metadata": {},
   "outputs": [
    {
     "data": {
      "text/plain": [
       "True"
      ]
     },
     "execution_count": 12,
     "metadata": {},
     "output_type": "execute_result"
    }
   ],
   "source": [
    "is_square_matrix(zero_matrix(10,10))"
   ]
  },
  {
   "cell_type": "code",
   "execution_count": 13,
   "metadata": {},
   "outputs": [],
   "source": [
    "def matrix_add(M1,M2):\n",
    "    m1,n1=matrix_shape(M1)\n",
    "    m2,n2=matrix_shape(M2)\n",
    "    \n",
    "    if m1==m2 and n1==n2:\n",
    "        M3=zero_matrix(m1,n1)\n",
    "        for i in range(m1):\n",
    "            for j in range(n1):\n",
    "                M3[i][j]=M1[i][j]+M2[i][j]\n",
    "        return M3\n",
    "    \n",
    "    return False"
   ]
  },
  {
   "cell_type": "code",
   "execution_count": 14,
   "metadata": {},
   "outputs": [
    {
     "data": {
      "text/plain": [
       "[[6, 4, 4], [3, 7, 7]]"
      ]
     },
     "execution_count": 14,
     "metadata": {},
     "output_type": "execute_result"
    }
   ],
   "source": [
    "A= [ [ 1,2,3],\n",
    "     [ 2,4,5]]\n",
    "\n",
    "B= [ [ 5,2,1],\n",
    "     [ 1,3,2]]\n",
    "\n",
    "matrix_add(A,B)\n"
   ]
  },
  {
   "cell_type": "code",
   "execution_count": 16,
   "metadata": {},
   "outputs": [],
   "source": [
    "def matrix_scalar_multiply(M,a):\n",
    "    m,n=matrix_shape(M)\n",
    "    M_out=zero_matrix(m,n)\n",
    "    for i in range(m):\n",
    "        for j in range(n):\n",
    "            M_out[i][j]=a*M[i][j]\n",
    "    return M_out\n",
    "    \n",
    "    "
   ]
  },
  {
   "cell_type": "code",
   "execution_count": 17,
   "metadata": {},
   "outputs": [
    {
     "data": {
      "text/plain": [
       "[[4, 8, 12], [8, 16, 20]]"
      ]
     },
     "execution_count": 17,
     "metadata": {},
     "output_type": "execute_result"
    }
   ],
   "source": [
    "matrix_scalar_multiply(A,4)"
   ]
  },
  {
   "cell_type": "code",
   "execution_count": 18,
   "metadata": {},
   "outputs": [],
   "source": [
    "def matrix_neg(M):\n",
    "    return matrix_scalar_multiply(M,-1)"
   ]
  },
  {
   "cell_type": "code",
   "execution_count": 19,
   "metadata": {},
   "outputs": [
    {
     "data": {
      "text/plain": [
       "[[-1, -2, -3], [-2, -4, -5]]"
      ]
     },
     "execution_count": 19,
     "metadata": {},
     "output_type": "execute_result"
    }
   ],
   "source": [
    "matrix_neg(A)"
   ]
  },
  {
   "cell_type": "code",
   "execution_count": 21,
   "metadata": {},
   "outputs": [],
   "source": [
    "def matrix_sub(M1,M2):\n",
    "    return matrix_add(M1, matrix_neg(M2))"
   ]
  },
  {
   "cell_type": "code",
   "execution_count": 22,
   "metadata": {},
   "outputs": [
    {
     "data": {
      "text/plain": [
       "[[-4, 0, 2], [1, 1, 3]]"
      ]
     },
     "execution_count": 22,
     "metadata": {},
     "output_type": "execute_result"
    }
   ],
   "source": [
    "matrix_sub(A,B)"
   ]
  },
  {
   "cell_type": "code",
   "execution_count": 25,
   "metadata": {},
   "outputs": [],
   "source": [
    "def matrix_transpose(M):\n",
    "    m,n=matrix_shape(M)\n",
    "    M_out=zero_matrix(n,m)\n",
    "    for i in range(m):\n",
    "        for j in range(n):\n",
    "            M_out[j][i]=M[i][j]\n",
    "    return M_out\n",
    "    "
   ]
  },
  {
   "cell_type": "code",
   "execution_count": 26,
   "metadata": {},
   "outputs": [
    {
     "data": {
      "text/plain": [
       "[[1, 2], [2, 4], [3, 5]]"
      ]
     },
     "execution_count": 26,
     "metadata": {},
     "output_type": "execute_result"
    }
   ],
   "source": [
    "matrix_transpose(A)"
   ]
  },
  {
   "cell_type": "code",
   "execution_count": null,
   "metadata": {},
   "outputs": [],
   "source": []
  }
 ],
 "metadata": {
  "kernelspec": {
   "display_name": "Python 2",
   "language": "python",
   "name": "python2"
  },
  "language_info": {
   "codemirror_mode": {
    "name": "ipython",
    "version": 2
   },
   "file_extension": ".py",
   "mimetype": "text/x-python",
   "name": "python",
   "nbconvert_exporter": "python",
   "pygments_lexer": "ipython2",
   "version": "2.7.16"
  }
 },
 "nbformat": 4,
 "nbformat_minor": 2
}
