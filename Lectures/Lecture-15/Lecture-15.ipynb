{
 "cells": [
  {
   "cell_type": "markdown",
   "metadata": {},
   "source": [
    "# Lecture 15\n",
    "\n",
    "* Labs: best way to study. Many didn't complete the assignments. Some had copied other's. \n",
    "    * New Rule: if you copy, you must site. Ideally link to GitHub in your solution.\n",
    "        * When you copy, the question is not longer counted in the demoninator of your grade... until 50%.\n",
    "    * Use this as a means of studying. Turn in Wednesday.\n",
    "    * Just submit new versions of the previous labs, and it will be regraded. \n",
    "    \n",
    "\n",
    "    \n"
   ]
  },
  {
   "cell_type": "markdown",
   "metadata": {},
   "source": [
    "## Solve some problems together\n",
    "\n",
    "1. What is the output of the following cell?\n"
   ]
  },
  {
   "cell_type": "code",
   "execution_count": 2,
   "metadata": {
    "scrolled": true
   },
   "outputs": [
    {
     "name": "stdout",
     "output_type": "stream",
     "text": [
      "5 4\n"
     ]
    }
   ],
   "source": [
    "my_list=[1,2,3,4,5,4,3,2,1]\n",
    "\n",
    "def arg_max(d):\n",
    "    a_max=d[0]\n",
    "    i_max=0\n",
    "    for i,e in enumerate(d):\n",
    "        if e>a_max:\n",
    "            a_max=e\n",
    "            i_max=i\n",
    "    return i_max\n",
    "\n",
    "print(max(my_list),arg_max(my_list))"
   ]
  },
  {
   "cell_type": "code",
   "execution_count": 3,
   "metadata": {},
   "outputs": [
    {
     "name": "stdout",
     "output_type": "stream",
     "text": [
      "1 0\n"
     ]
    }
   ],
   "source": [
    "def arg_min(d):\n",
    "    a_min=d[0]\n",
    "    i_min=0\n",
    "    for i,e in enumerate(d):\n",
    "        if e<a_min:\n",
    "            a_min=e\n",
    "            i_min=i\n",
    "    return i_min\n",
    "\n",
    "print(min(my_list),arg_min(my_list))"
   ]
  },
  {
   "cell_type": "markdown",
   "metadata": {},
   "source": [
    "2. What would be `arg_min(my_list)` return if it was modified to return a list of the indexes of all values that are max. "
   ]
  },
  {
   "cell_type": "raw",
   "metadata": {},
   "source": [
    "[0,8]"
   ]
  },
  {
   "cell_type": "markdown",
   "metadata": {},
   "source": [
    "3. Do the modification:"
   ]
  },
  {
   "cell_type": "code",
   "execution_count": 13,
   "metadata": {},
   "outputs": [],
   "source": [
    "def arg_min(lst):\n",
    "    out=list()\n",
    "    \n",
    "    min_val=lst[0]\n",
    "    min_index=0\n",
    "    for i,val in enumerate(lst):\n",
    "        if val<min_val:\n",
    "            min_val=val\n",
    "            min_index=i\n",
    "            out=list()\n",
    "            out.append(i)\n",
    "        elif val==min_val:\n",
    "            out.append(i)\n",
    "            \n",
    "    return out\n"
   ]
  },
  {
   "cell_type": "code",
   "execution_count": 16,
   "metadata": {
    "scrolled": true
   },
   "outputs": [
    {
     "data": {
      "text/plain": [
       "[2, 5, 6]"
      ]
     },
     "execution_count": 16,
     "metadata": {},
     "output_type": "execute_result"
    }
   ],
   "source": [
    "arg_min([2,2,1,2,3,1,1])"
   ]
  },
  {
   "cell_type": "markdown",
   "metadata": {},
   "source": [
    "4. Recall `zero_matrix` from last lecture. Write a function called `one_matrix(n)` that creates an $n$ by $n$ identity matrix. Call `zero_matrix` in your implementation."
   ]
  },
  {
   "cell_type": "code",
   "execution_count": 25,
   "metadata": {},
   "outputs": [],
   "source": [
    "def zero_matrix(m,n):\n",
    "    out=list()\n",
    "    for i in range(m):\n",
    "        row=list()\n",
    "        for j in range(n):\n",
    "            row.append(0.)\n",
    "        out.append(row)\n",
    "    return out"
   ]
  },
  {
   "cell_type": "code",
   "execution_count": 26,
   "metadata": {},
   "outputs": [],
   "source": [
    "def eye_matrix(n):\n",
    "    M=zero_matrix(n,n)\n",
    "    for i in range(n):\n",
    "        M[i][i]=1.\n",
    "    return M"
   ]
  },
  {
   "cell_type": "code",
   "execution_count": 27,
   "metadata": {},
   "outputs": [
    {
     "data": {
      "text/plain": [
       "[[1.0, 0.0, 0.0, 0.0, 0.0, 0.0, 0.0, 0.0, 0.0, 0.0],\n",
       " [0.0, 1.0, 0.0, 0.0, 0.0, 0.0, 0.0, 0.0, 0.0, 0.0],\n",
       " [0.0, 0.0, 1.0, 0.0, 0.0, 0.0, 0.0, 0.0, 0.0, 0.0],\n",
       " [0.0, 0.0, 0.0, 1.0, 0.0, 0.0, 0.0, 0.0, 0.0, 0.0],\n",
       " [0.0, 0.0, 0.0, 0.0, 1.0, 0.0, 0.0, 0.0, 0.0, 0.0],\n",
       " [0.0, 0.0, 0.0, 0.0, 0.0, 1.0, 0.0, 0.0, 0.0, 0.0],\n",
       " [0.0, 0.0, 0.0, 0.0, 0.0, 0.0, 1.0, 0.0, 0.0, 0.0],\n",
       " [0.0, 0.0, 0.0, 0.0, 0.0, 0.0, 0.0, 1.0, 0.0, 0.0],\n",
       " [0.0, 0.0, 0.0, 0.0, 0.0, 0.0, 0.0, 0.0, 1.0, 0.0],\n",
       " [0.0, 0.0, 0.0, 0.0, 0.0, 0.0, 0.0, 0.0, 0.0, 1.0]]"
      ]
     },
     "execution_count": 27,
     "metadata": {},
     "output_type": "execute_result"
    }
   ],
   "source": [
    "eye_matrix(10)"
   ]
  },
  {
   "cell_type": "markdown",
   "metadata": {},
   "source": [
    "5. Implement dot product between two vectors of arbitrary size n, which are 1 by n matrices. Dot product: $x\\cdot y = x^T y = \\sum_{i=1}^n x_i y_i$"
   ]
  },
  {
   "cell_type": "code",
   "execution_count": 57,
   "metadata": {
    "scrolled": true
   },
   "outputs": [
    {
     "name": "stdout",
     "output_type": "stream",
     "text": [
      "[[1.0, 2.0, 3.0]]\n",
      "[[3.0, 2.0, 1.0]]\n"
     ]
    }
   ],
   "source": [
    "a=zero_matrix(1,3)\n",
    "b=zero_matrix(1,3)\n",
    "\n",
    "a[0][0]=1.\n",
    "a[0][1]=2.\n",
    "a[0][2]=3.\n",
    "\n",
    "b[0][0]=3.\n",
    "b[0][1]=2.\n",
    "b[0][2]=1.\n",
    "\n",
    "print(a)\n",
    "print(b)\n",
    "\n",
    "def is_matrix(M):\n",
    "    if isinstance(M,list):\n",
    "        row_length=len(M[0])\n",
    "        for row in M:\n",
    "            if not row_length==len(row):\n",
    "                return False\n",
    "    else:\n",
    "        False\n",
    "    return True\n",
    "        \n",
    "\n",
    "def matrix_shape(M):\n",
    "    if is_matrix(M):\n",
    "        m=len(M)\n",
    "        n=len(M[0])\n",
    "        return m,n\n",
    "    else:\n",
    "        0,0\n",
    "\n",
    "def dot_product(a,b):\n",
    "    m_a,n_a=matrix_shape(a)\n",
    "    m_b,n_b=matrix_shape(b)\n",
    "    \n",
    "    if n_a==n_b and m_a==1 and m_b==1:\n",
    "        result=0.\n",
    "        for i in range(len(a[0])):\n",
    "            result+=a[0][i]*b[0][i]\n",
    "        return result\n",
    "\n",
    "    return False\n",
    "\n",
    "    \n"
   ]
  },
  {
   "cell_type": "code",
   "execution_count": 58,
   "metadata": {},
   "outputs": [],
   "source": [
    "def dot(a,b):\n",
    "  result=0.\n",
    "  #print(len(a[0]))\n",
    "  for i in range(len(a[0])):\n",
    "    #print(result)\n",
    "    result+=a[0][i]*b[0][i]\n",
    "  return result"
   ]
  },
  {
   "cell_type": "code",
   "execution_count": 59,
   "metadata": {},
   "outputs": [
    {
     "data": {
      "text/plain": [
       "10.0"
      ]
     },
     "execution_count": 59,
     "metadata": {},
     "output_type": "execute_result"
    }
   ],
   "source": [
    "dot_product(a,b)"
   ]
  },
  {
   "cell_type": "code",
   "execution_count": 41,
   "metadata": {},
   "outputs": [],
   "source": [
    "import numpy as np"
   ]
  },
  {
   "cell_type": "code",
   "execution_count": 44,
   "metadata": {},
   "outputs": [
    {
     "data": {
      "text/plain": [
       "array([[10.]])"
      ]
     },
     "execution_count": 44,
     "metadata": {},
     "output_type": "execute_result"
    }
   ],
   "source": [
    "np.dot(b,np.array(a).transpose())"
   ]
  },
  {
   "cell_type": "markdown",
   "metadata": {},
   "source": [
    "6. Implement dot product between two vectors of arbitrary size n, which are n by 1 matrices."
   ]
  },
  {
   "cell_type": "code",
   "execution_count": 61,
   "metadata": {},
   "outputs": [
    {
     "name": "stdout",
     "output_type": "stream",
     "text": [
      "[[1.0], [2.0], [3.0]]\n",
      "[[3.0], [2.0], [1.0]]\n"
     ]
    },
    {
     "data": {
      "text/plain": [
       "10.0"
      ]
     },
     "execution_count": 61,
     "metadata": {},
     "output_type": "execute_result"
    }
   ],
   "source": [
    "a=zero_matrix(3,1)\n",
    "b=zero_matrix(3,1)\n",
    "\n",
    "a[0][0]=1.\n",
    "a[1][0]=2.\n",
    "a[2][0]=3.\n",
    "\n",
    "b[0][0]=3.\n",
    "b[1][0]=2.\n",
    "b[2][0]=1.\n",
    "\n",
    "print(a)\n",
    "print(b)\n",
    "\n",
    "def dot(a,b):\n",
    "  result=0.\n",
    "  for i in range(len(a)):\n",
    "    result+=a[i][0]*b[i][0]\n",
    "  return result\n",
    "\n",
    "dot(a,b)"
   ]
  },
  {
   "cell_type": "markdown",
   "metadata": {},
   "source": [
    "7. Implement full matrix multiplication function `matrix_multiply(M1,M2)`.\n",
    "\n",
    "# Matrix Operations\n",
    "\n",
    "* Transpose: $(A^T)_{ij} = A_{ji}$\n",
    "* Sum (elementwise): $C_{ij} = A_{ij} + B_{ij}$\n",
    "* Elementwise product: $C_{ij} = A_{ij} B_{ij}$\n",
    "* Matrix product: $C=A \\cdot B$: $C_{ij} = \\sum_{k} A_{ik} B_{kj}$.\n",
    "   * Note than if size of $A$ is $n \\times m$ then $B$ has to be of size $m \\times k$ and the resulting matrix will be of size $n \\times k$.\n",
    "   * Good way to visualize product:\n",
    "    \\begin{equation*}\n",
    "    AB=\n",
    "\\begin{pmatrix} \n",
    "- & a_1 & -\\\\\n",
    "- & a_2 & -\\\\\n",
    " & \\vdots & \\\\\n",
    "- & a_m & -\\\\\n",
    "\\end{pmatrix} \n",
    "\\begin{pmatrix} \n",
    "| & | &  &|\\\\\n",
    "b_1 & b_2 & \\dots &\\ b_n\\\\\n",
    "| & | &  &|\n",
    "\\end{pmatrix}=\n",
    "\\begin{pmatrix}\n",
    "a^T_1b_1 & a^T_1b_2 & \\dots & a^T_1b_n\\\\\n",
    "a^T_2b_1 & a^T_2b_2 & \\dots & a^T_2b_n\\\\\n",
    "\\vdots & \\vdots & \\ddots & \\vdots \\\\\n",
    "a^T_mb_1 & a^T_mb_2 & \\dots & a^T_mb_n\n",
    "\\end{pmatrix}\n",
    "\\end{equation*}"
   ]
  },
  {
   "cell_type": "code",
   "execution_count": 70,
   "metadata": {},
   "outputs": [
    {
     "name": "stdout",
     "output_type": "stream",
     "text": [
      "(4, 3)\n",
      "(3, 3)\n",
      "[[-5.0, -5.0, 4.0], [-3.0, -5.0, 12.0], [-5.0, -5.0, 4.0], [-5.0, -5.0, 4.0]]\n",
      "(4, 3)\n"
     ]
    }
   ],
   "source": [
    "\n",
    "A= [ [ 1, 2, 3],\n",
    "     [ 3, 4, 5],\n",
    "   [ 1, 2, 3],\n",
    "   [ 1, 2, 3]] \n",
    "\n",
    "B= [ [ 5, 2, 2],\n",
    "     [ -2, 1, 4],\n",
    "     [ -2, -3, -2]]\n",
    "\n",
    "print(matrix_shape(A))\n",
    "print(matrix_shape(B))\n",
    "\n",
    "def matrix_multiply(A,B):\n",
    "    m_a,n_a=matrix_shape(A)\n",
    "    m_b,n_b=matrix_shape(B)\n",
    "    \n",
    "    out_matrix=zero_matrix(m_a,n_b)\n",
    "\n",
    "    if n_a==m_b:\n",
    "        for i in range(m_a):\n",
    "            for j in range(n_b):\n",
    "                for k in range(n_a):\n",
    "                    out_matrix[i][j]+=A[i][k]*B[k][j]\n",
    "    \n",
    "        return out_matrix\n",
    "    \n",
    "    return False\n",
    "\n",
    "C=matrix_multiply(A,B)\n",
    "print(C)\n",
    "print(matrix_shape(C))\n"
   ]
  },
  {
   "cell_type": "markdown",
   "metadata": {},
   "source": [
    "# Histograms"
   ]
  },
  {
   "cell_type": "code",
   "execution_count": 71,
   "metadata": {},
   "outputs": [],
   "source": [
    "import numpy as np\n",
    "%matplotlib inline\n",
    "import matplotlib.pyplot as plt"
   ]
  },
  {
   "cell_type": "code",
   "execution_count": 75,
   "metadata": {},
   "outputs": [],
   "source": [
    "# Quickly make a list of 100 numbers between 5 and 15.\n",
    "data_0=(10*np.random.random(100)+5.).tolist()"
   ]
  },
  {
   "cell_type": "code",
   "execution_count": 76,
   "metadata": {},
   "outputs": [],
   "source": [
    "# Or a normal distribution at 10 with sigma 2.5\n",
    "data_1=np.random.normal(10,2.5,100)"
   ]
  },
  {
   "cell_type": "code",
   "execution_count": 77,
   "metadata": {},
   "outputs": [
    {
     "data": {
      "text/plain": [
       "(array([100]), array([ 5.01255679, 14.89610621]))"
      ]
     },
     "execution_count": 77,
     "metadata": {},
     "output_type": "execute_result"
    }
   ],
   "source": [
    "np.histogram(data_0,bins=1)"
   ]
  },
  {
   "cell_type": "code",
   "execution_count": 78,
   "metadata": {},
   "outputs": [
    {
     "name": "stdout",
     "output_type": "stream",
     "text": [
      "5.0125567935193525 14.896106209546462\n"
     ]
    }
   ],
   "source": [
    "print(min(data_0),max(data_0))"
   ]
  },
  {
   "cell_type": "code",
   "execution_count": 80,
   "metadata": {},
   "outputs": [
    {
     "data": {
      "text/plain": [
       "(array([52, 48]), array([ 5.08078308,  9.9237866 , 14.76679012]))"
      ]
     },
     "execution_count": 80,
     "metadata": {},
     "output_type": "execute_result"
    }
   ],
   "source": [
    "np.histogram(data,bins=2)"
   ]
  },
  {
   "cell_type": "code",
   "execution_count": 81,
   "metadata": {},
   "outputs": [
    {
     "data": {
      "text/plain": [
       "(array([29, 38, 33]),\n",
       " array([ 5.08078308,  8.30945209, 11.53812111, 14.76679012]))"
      ]
     },
     "execution_count": 81,
     "metadata": {},
     "output_type": "execute_result"
    }
   ],
   "source": [
    "np.histogram(data,bins=3)"
   ]
  },
  {
   "cell_type": "code",
   "execution_count": 84,
   "metadata": {},
   "outputs": [
    {
     "data": {
      "text/plain": [
       "(array([29., 38., 33.]),\n",
       " array([ 5.08078308,  8.30945209, 11.53812111, 14.76679012]),\n",
       " <a list of 3 Patch objects>)"
      ]
     },
     "execution_count": 84,
     "metadata": {},
     "output_type": "execute_result"
    },
    {
     "data": {
      "image/png": "[encoded data removed]",
      "text/plain": [
       "<Figure size 432x288 with 1 Axes>"
      ]
     },
     "metadata": {
      "needs_background": "light"
     },
     "output_type": "display_data"
    }
   ],
   "source": [
    "plt.hist(data,bins=3)"
   ]
  },
  {
   "cell_type": "code",
   "execution_count": 86,
   "metadata": {},
   "outputs": [
    {
     "data": {
      "text/plain": [
       "(array([ 2.,  5., 11., 11., 13., 23., 20., 10.,  3.,  2.]),\n",
       " array([ 3.61818753,  4.85986717,  6.10154682,  7.34322647,  8.58490612,\n",
       "         9.82658576, 11.06826541, 12.30994506, 13.5516247 , 14.79330435,\n",
       "        16.034984  ]),\n",
       " <a list of 10 Patch objects>)"
      ]
     },
     "execution_count": 86,
     "metadata": {},
     "output_type": "execute_result"
    },
    {
     "data": {
      "image/png": "[encoded data removed]",
      "text/plain": [
       "<Figure size 432x288 with 1 Axes>"
      ]
     },
     "metadata": {
      "needs_background": "light"
     },
     "output_type": "display_data"
    }
   ],
   "source": [
    "plt.hist(data_1)"
   ]
  },
  {
   "cell_type": "markdown",
   "metadata": {},
   "source": [
    "## Histogram\n",
    "\n",
    "In Lab 4 you are asked to write a histogram function:\n",
    "\n",
    "* User inputs a list of values `x` and optionally `n_bins` which defaults to 10.\n",
    "* If not supplied, find the minimum and maximum (`x_min`,`x_max`) of the values in x.\n",
    "* Determine the bin size (`bin_size`) by dividing the range of the function by the number of bins.\n",
    "* Create an empty list of zeros of size `n_bins`, call it `hist`.\n",
    "* Loop over the values in `x`\n",
    "    * Loop over the values in `hist` with index `i`:\n",
    "        * If x is between `x_min+i*bin_size` and `x_min+(i+1)*bin_size`, increment `hist[i].` \n",
    "        * For efficiency, try to use continue to goto the next bin and data point.\n",
    "* Return `hist` and the list corresponding of the bin edges (i.e. of `x_min+i*bin_size`).    \n",
    "\n",
    "\n",
    "\n"
   ]
  },
  {
   "cell_type": "markdown",
   "metadata": {},
   "source": [
    "## Alternative\n",
    "* User inputs a list of values `x` and optionally `n_bins` which defaults to 10.\n",
    "* If not supplied, find the minimum and maximum (`x_min`,`x_max`) of the values in x.\n",
    "* Create an empty list of zeros of size `n_bins`, call it `hist`.\n",
    "* Create a list of `bin_edges` using `arange`.\n",
    "* Loop over the values in `x`\n",
    "    * Loop over the values in `hist` with index `i`:\n",
    "        * If x is between `bin_edge[i]` and `bin_edge[i+1]`, increment `hist[i].` \n",
    "        * For efficiency, try to use continue to goto the next bin and data point.\n",
    "* Return `hist` and the list corresponding of the bin edges (i.e. of `x_min+i*bin_size`).    \n",
    "\n"
   ]
  },
  {
   "cell_type": "code",
   "execution_count": null,
   "metadata": {},
   "outputs": [],
   "source": [
    "def arange(x_min,x_max,steps=10):\n",
    "    step_size=(x_max-x_min)/steps\n",
    "    x=x_min\n",
    "    out = list()\n",
    "    for i in range(steps):\n",
    "        out.append(x)\n",
    "        x+=step_size\n",
    "    return out"
   ]
  },
  {
   "cell_type": "code",
   "execution_count": null,
   "metadata": {},
   "outputs": [],
   "source": [
    "def histogram(data, n_bins=10,x_min=None, x_max=None):\n",
    "                \n",
    "    return hist,bin_edges"
   ]
  },
  {
   "cell_type": "code",
   "execution_count": null,
   "metadata": {},
   "outputs": [],
   "source": [
    "#histogram(data,10,0,10)"
   ]
  },
  {
   "cell_type": "code",
   "execution_count": null,
   "metadata": {},
   "outputs": [],
   "source": []
  }
 ],
 "metadata": {
  "kernelspec": {
   "display_name": "Python 3",
   "language": "python",
   "name": "python3"
  },
  "language_info": {
   "codemirror_mode": {
    "name": "ipython",
    "version": 3
   },
   "file_extension": ".py",
   "mimetype": "text/x-python",
   "name": "python",
   "nbconvert_exporter": "python",
   "pygments_lexer": "ipython3",
   "version": "3.8.1"
  }
 },
 "nbformat": 4,
 "nbformat_minor": 2
}
