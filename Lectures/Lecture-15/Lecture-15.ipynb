{
 "cells": [
  {
   "cell_type": "markdown",
   "metadata": {},
   "source": [
    "# Lecture 15\n",
    "\n",
    "* Labs: best way to study. Many didn't complete the assignments. Some had copied other's. \n",
    "    * New Rule: if you copy, you must site. Ideally link to GitHub in your solution.\n",
    "        * When you copy, the question is not longer counted in the demoninator of your grade... until 50%.\n",
    "    * Use this as a means of studying. Turn in Wednesday.\n",
    "    * Just submit new versions of the previous labs, and it will be regraded. \n",
    "    \n",
    "\n",
    "    \n"
   ]
  },
  {
   "cell_type": "markdown",
   "metadata": {},
   "source": [
    "## Solve some problems together\n",
    "\n",
    "1. What is the output of the following cell?\n"
   ]
  },
  {
   "cell_type": "code",
   "execution_count": 2,
   "metadata": {
    "scrolled": true
   },
   "outputs": [
    {
     "name": "stdout",
     "output_type": "stream",
     "text": [
      "5 4\n"
     ]
    }
   ],
   "source": [
    "my_list=[1,2,3,4,5,4,3,2,1]\n",
    "\n",
    "print(max(my_list),arg_max(my_list))"
   ]
  },
  {
   "cell_type": "code",
   "execution_count": null,
   "metadata": {},
   "outputs": [],
   "source": [
    "print(min(my_list),arg_min(my_list))"
   ]
  },
  {
   "cell_type": "markdown",
   "metadata": {},
   "source": [
    "2. What would be `arg_min(my_list)` return if it was modified to return a list of the indexes of all values that are max. "
   ]
  },
  {
   "cell_type": "markdown",
   "metadata": {},
   "source": []
  },
  {
   "cell_type": "markdown",
   "metadata": {},
   "source": [
    "3. Do the modification:"
   ]
  },
  {
   "cell_type": "code",
   "execution_count": null,
   "metadata": {},
   "outputs": [],
   "source": [
    "def arg_min(lst):\n",
    "    min_val=lst[0]\n",
    "    min_index=0\n",
    "    for i,val in enumerate(lst):\n",
    "        if val<min_val:\n",
    "            min_val=val\n",
    "            min_index=i\n",
    "            \n",
    "    return min_index\n"
   ]
  },
  {
   "cell_type": "markdown",
   "metadata": {},
   "source": [
    "4. Recall `zero_matrix` from last lecture. Write a function called `one_matrix(n)` that creates an $n$ by $n$ identity matrix. Call `zero_matrix` in your implementation."
   ]
  },
  {
   "cell_type": "code",
   "execution_count": 3,
   "metadata": {},
   "outputs": [],
   "source": [
    "def zero_matrix(m,n):\n",
    "    out=list()\n",
    "    for i in range(m):\n",
    "        row=list()\n",
    "        for j in range(n):\n",
    "            row.append(0.)\n",
    "        out.append(row)\n",
    "    return out"
   ]
  },
  {
   "cell_type": "markdown",
   "metadata": {},
   "source": [
    "5. Implement dot product between two vectors of arbitrary size n, which are 1 by n matrices."
   ]
  },
  {
   "cell_type": "code",
   "execution_count": null,
   "metadata": {},
   "outputs": [],
   "source": []
  },
  {
   "cell_type": "markdown",
   "metadata": {},
   "source": [
    "6. Implement dot product between two vectors of arbitrary size n, which are n by 1 matrices."
   ]
  },
  {
   "cell_type": "code",
   "execution_count": null,
   "metadata": {},
   "outputs": [],
   "source": []
  },
  {
   "cell_type": "markdown",
   "metadata": {},
   "source": [
    "7. Implement full matrix multiplication function `matrix_multiply(M1,M2)`."
   ]
  },
  {
   "cell_type": "code",
   "execution_count": null,
   "metadata": {},
   "outputs": [],
   "source": []
  },
  {
   "cell_type": "markdown",
   "metadata": {},
   "source": [
    "# Histograms"
   ]
  },
  {
   "cell_type": "code",
   "execution_count": 8,
   "metadata": {},
   "outputs": [],
   "source": [
    "import numpy as np\n",
    "%matplotlib inline\n",
    "import matplotlib.pyplot as plt"
   ]
  },
  {
   "cell_type": "code",
   "execution_count": 36,
   "metadata": {},
   "outputs": [
    {
     "ename": "AttributeError",
     "evalue": "'float' object has no attribute 'tolist'",
     "output_type": "error",
     "traceback": [
      "\u001b[0;31m---------------------------------------------------------------------------\u001b[0m",
      "\u001b[0;31mAttributeError\u001b[0m                            Traceback (most recent call last)",
      "\u001b[0;32m<ipython-input-36-6593349d86d9>\u001b[0m in \u001b[0;36m<module>\u001b[0;34m\u001b[0m\n\u001b[1;32m      1\u001b[0m \u001b[0;31m# Quickly make a list of 100 numbers between 5 and 15.\u001b[0m\u001b[0;34m\u001b[0m\u001b[0;34m\u001b[0m\u001b[0;34m\u001b[0m\u001b[0m\n\u001b[0;32m----> 2\u001b[0;31m \u001b[0mdata\u001b[0m\u001b[0;34m=\u001b[0m\u001b[0;34m(\u001b[0m\u001b[0;36m10\u001b[0m\u001b[0;34m*\u001b[0m\u001b[0mnp\u001b[0m\u001b[0;34m.\u001b[0m\u001b[0mrandom\u001b[0m\u001b[0;34m.\u001b[0m\u001b[0mnormal\u001b[0m\u001b[0;34m(\u001b[0m\u001b[0;36m100\u001b[0m\u001b[0;34m)\u001b[0m\u001b[0;34m+\u001b[0m\u001b[0;36m5.\u001b[0m\u001b[0;34m)\u001b[0m\u001b[0;34m.\u001b[0m\u001b[0mtolist\u001b[0m\u001b[0;34m(\u001b[0m\u001b[0;34m)\u001b[0m\u001b[0;34m\u001b[0m\u001b[0;34m\u001b[0m\u001b[0m\n\u001b[0m",
      "\u001b[0;31mAttributeError\u001b[0m: 'float' object has no attribute 'tolist'"
     ]
    }
   ],
   "source": [
    "# Quickly make a list of 100 numbers between 5 and 15.\n",
    "data=(10*np.random.normal(100)+5.).tolist()"
   ]
  },
  {
   "cell_type": "code",
   "execution_count": 42,
   "metadata": {},
   "outputs": [],
   "source": [
    "# Or a normal distribution at 10 with sigma 2.5\n",
    "data_1=np.random.normal(10,2.5,100)"
   ]
  },
  {
   "cell_type": "code",
   "execution_count": 43,
   "metadata": {},
   "outputs": [
    {
     "data": {
      "text/plain": [
       "(array([100]), array([ 5.00298852, 14.9120839 ]))"
      ]
     },
     "execution_count": 43,
     "metadata": {},
     "output_type": "execute_result"
    }
   ],
   "source": [
    "np.histogram(data,bins=1)"
   ]
  },
  {
   "cell_type": "code",
   "execution_count": 44,
   "metadata": {},
   "outputs": [
    {
     "data": {
      "text/plain": [
       "(array([53, 47]), array([ 5.00298852,  9.95753621, 14.9120839 ]))"
      ]
     },
     "execution_count": 44,
     "metadata": {},
     "output_type": "execute_result"
    }
   ],
   "source": [
    "np.histogram(data,bins=2)"
   ]
  },
  {
   "cell_type": "code",
   "execution_count": 45,
   "metadata": {},
   "outputs": [
    {
     "data": {
      "text/plain": [
       "(array([35, 33, 32]),\n",
       " array([ 5.00298852,  8.30602031, 11.60905211, 14.9120839 ]))"
      ]
     },
     "execution_count": 45,
     "metadata": {},
     "output_type": "execute_result"
    }
   ],
   "source": [
    "np.histogram(data,bins=3)"
   ]
  },
  {
   "cell_type": "code",
   "execution_count": 46,
   "metadata": {},
   "outputs": [
    {
     "data": {
      "text/plain": [
       "(array([12., 12.,  8., 10., 11.,  7., 10.,  8., 10., 12.]),\n",
       " array([ 5.00298852,  5.99389806,  6.9848076 ,  7.97571713,  8.96662667,\n",
       "         9.95753621, 10.94844575, 11.93935529, 12.93026482, 13.92117436,\n",
       "        14.9120839 ]),\n",
       " <a list of 10 Patch objects>)"
      ]
     },
     "execution_count": 46,
     "metadata": {},
     "output_type": "execute_result"
    },
    {
     "data": {
      "image/png": "[encoded data removed]",
      "text/plain": [
       "<Figure size 432x288 with 1 Axes>"
      ]
     },
     "metadata": {
      "needs_background": "light"
     },
     "output_type": "display_data"
    }
   ],
   "source": [
    "plt.hist(data)"
   ]
  },
  {
   "cell_type": "code",
   "execution_count": 48,
   "metadata": {},
   "outputs": [
    {
     "data": {
      "text/plain": [
       "array([10.36168507,  9.2361784 ,  7.55417991, 13.12216388,  9.58963785,\n",
       "        9.91876289,  8.26086133,  7.50225843,  6.45121105,  7.25940198,\n",
       "       13.74275481,  9.07742298, 14.79464719,  9.16171163,  8.95427776,\n",
       "       10.40379815,  9.44601164, 11.32308569,  8.97763978,  7.65285662,\n",
       "        6.75346534,  9.75399096,  9.09909204,  4.86809531, 11.55174418,\n",
       "       12.61480186, 15.92307914, 15.43625341,  7.40988659, 13.35101374,\n",
       "       12.15272456, 10.32408886, 12.11191216,  6.27137318,  2.97102393,\n",
       "       10.08615408, 11.4739457 ,  4.36483598,  5.22302477, 15.63204624,\n",
       "       10.50070502,  9.27047997, 12.26896678,  7.85835397,  8.09650836,\n",
       "        9.0396841 ,  8.74041799,  8.35231086, 11.59902125, 12.7928038 ,\n",
       "       13.28385721, 10.81340855, 11.24674224, 16.28199331,  7.76193068,\n",
       "       10.42155238, 11.86916993,  9.85745427, 10.22698879,  7.12264191,\n",
       "        6.5006999 ,  9.08740375,  9.14978782,  9.32671194,  6.84046968,\n",
       "        9.29836492, 13.04576558,  8.83185968, 11.16320931, 11.78242838,\n",
       "        8.83215842,  9.11628728, 10.86661774,  7.39768852, 14.13411141,\n",
       "       11.93613164, 15.51553122,  6.02338789, 11.53678776,  8.77416416,\n",
       "        9.50307666, 14.0433232 ,  9.29363336,  6.7074981 ,  7.84512914,\n",
       "        9.29420368,  6.65833115, 11.03917759, 10.96030233,  8.18596064,\n",
       "       11.7189526 ,  9.74475853, 12.66327427, 16.13541728,  9.68485969,\n",
       "        7.29427282,  9.12143031, 14.72430157, 15.85021968, 14.25058571])"
      ]
     },
     "execution_count": 48,
     "metadata": {},
     "output_type": "execute_result"
    }
   ],
   "source": [
    "data_1"
   ]
  },
  {
   "cell_type": "code",
   "execution_count": 47,
   "metadata": {},
   "outputs": [
    {
     "data": {
      "text/plain": [
       "(array([ 1.,  3.,  8., 14., 24., 14., 16.,  7.,  6.,  7.]),\n",
       " array([ 2.97102393,  4.30212087,  5.63321781,  6.96431475,  8.29541168,\n",
       "         9.62650862, 10.95760556, 12.2887025 , 13.61979944, 14.95089638,\n",
       "        16.28199331]),\n",
       " <a list of 10 Patch objects>)"
      ]
     },
     "execution_count": 47,
     "metadata": {},
     "output_type": "execute_result"
    },
    {
     "data": {
      "image/png": "[encoded data removed]",
      "text/plain": [
       "<Figure size 432x288 with 1 Axes>"
      ]
     },
     "metadata": {
      "needs_background": "light"
     },
     "output_type": "display_data"
    }
   ],
   "source": [
    "plt.hist(data_1)"
   ]
  },
  {
   "cell_type": "markdown",
   "metadata": {},
   "source": [
    "## Histogram\n",
    "\n",
    "In Lab 4 you are asked to write a histogram function:\n",
    "\n",
    "* User inputs a list of values `x` and optionally `n_bins` which defaults to 10.\n",
    "* If not supplied, find the minimum and maximum (`x_min`,`x_max`) of the values in x.\n",
    "* Determine the bin size (`bin_size`) by dividing the range of the function by the number of bins.\n",
    "* Create an empty list of zeros of size `n_bins`, call it `hist`.\n",
    "* Loop over the values in `x`\n",
    "    * Loop over the values in `hist` with index `i`:\n",
    "        * If x is between `x_min+i*bin_size` and `x_min+(i+1)*bin_size`, increment `hist[i].` \n",
    "        * For efficiency, try to use continue to goto the next bin and data point.\n",
    "* Return `hist` and the list corresponding of the bin edges (i.e. of `x_min+i*bin_size`).    \n",
    "\n",
    "\n",
    "\n"
   ]
  },
  {
   "cell_type": "markdown",
   "metadata": {},
   "source": [
    "## Alternative\n",
    "* User inputs a list of values `x` and optionally `n_bins` which defaults to 10.\n",
    "* If not supplied, find the minimum and maximum (`x_min`,`x_max`) of the values in x.\n",
    "* Create an empty list of zeros of size `n_bins`, call it `hist`.\n",
    "* Create a list of `bin_edges` using `arange`.\n",
    "* Loop over the values in `x`\n",
    "    * Loop over the values in `hist` with index `i`:\n",
    "        * If x is between `bin_edge[i]` and `bin_edge[i+1]`, increment `hist[i].` \n",
    "        * For efficiency, try to use continue to goto the next bin and data point.\n",
    "* Return `hist` and the list corresponding of the bin edges (i.e. of `x_min+i*bin_size`).    \n",
    "\n"
   ]
  },
  {
   "cell_type": "code",
   "execution_count": 57,
   "metadata": {},
   "outputs": [],
   "source": [
    "def arange(x_min,x_max,steps=10):\n",
    "    step_size=(x_max-x_min)/steps\n",
    "    x=x_min\n",
    "    out = list()\n",
    "    for i in range(steps):\n",
    "        out.append(x)\n",
    "        x+=step_size\n",
    "    return out"
   ]
  },
  {
   "cell_type": "code",
   "execution_count": 73,
   "metadata": {},
   "outputs": [],
   "source": [
    "def histogram(data, n_bins=10,x_min=None, x_max=None):\n",
    "                \n",
    "    return hist,bin_edges"
   ]
  },
  {
   "cell_type": "code",
   "execution_count": 74,
   "metadata": {},
   "outputs": [
    {
     "data": {
      "text/plain": [
       "([0, 0, 0, 0, 0, 13, 11, 8, 10, 11],\n",
       " [0, 1.0, 2.0, 3.0, 4.0, 5.0, 6.0, 7.0, 8.0, 9.0, 10])"
      ]
     },
     "execution_count": 74,
     "metadata": {},
     "output_type": "execute_result"
    }
   ],
   "source": [
    "#histogram(data,10,0,10)"
   ]
  },
  {
   "cell_type": "code",
   "execution_count": null,
   "metadata": {},
   "outputs": [],
   "source": []
  }
 ],
 "metadata": {
  "kernelspec": {
   "display_name": "Python 3",
   "language": "python",
   "name": "python3"
  },
  "language_info": {
   "codemirror_mode": {
    "name": "ipython",
    "version": 3
   },
   "file_extension": ".py",
   "mimetype": "text/x-python",
   "name": "python",
   "nbconvert_exporter": "python",
   "pygments_lexer": "ipython3",
   "version": "3.8.1"
  }
 },
 "nbformat": 4,
 "nbformat_minor": 2
}
