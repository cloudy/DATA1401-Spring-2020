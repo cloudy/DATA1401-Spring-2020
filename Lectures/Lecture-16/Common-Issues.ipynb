{
 "cells": [
  {
   "cell_type": "markdown",
   "metadata": {},
   "source": [
    "# Comments from the TA\n",
    "\n",
    "List of items:\n",
    "\n",
    "* for loops: i in data\n",
    "* if elif, if if\n",
    "* using protected keywords (ex: min max) as variables\n",
    "* consistent spacing\n",
    "* parantheses syntax \n",
    "* writing functions, then renaming it and now code that uses old function names don't work \n",
    "* submission issues: how to git pull, create new folder, or uploading file to correct directory\n",
    "* assignment description: watching out for return vs print\n",
    "* list of lists by reference or value? matrix = [[0]*3]*3\n",
    "* effective commenting: help me help you\n",
    "* infinite loops (getting stuck when it shouldn't)\n",
    "* trying to combine different types of data: print(str + int)\n",
    "* indexing out of range: for i in range(len(x)): print(x[i+1])\n",
    "* Assignment asks for functions, write it in a def function block\n",
    "* taking user input when it should just be hard coded test-cases"
   ]
  },
  {
   "cell_type": "markdown",
   "metadata": {},
   "source": [
    "## Tips for Getting Full Credit on Assignments\n",
    "\n",
    "Some common reasons students don't get full-credit:\n",
    "\n",
    "- Not following directions:\n",
    " - Carefully following exercise and submission directions will help you avoid most of the issues students have been running into, including the ones described below.\n",
    " - Make sure to re-read and ask for clarification if you feel something may be ambiguous\n",
    " - Make sure that you submit the assignments correctly and by the deadline. Check the google group for the submission process. Please contact the GTA if you're unclear on the process.\n",
    "- Not returning the right data, or not returning anything at all when asked in exercise\n",
    " - Some students will use 'print' instead of return keyword\n",
    " - The exercise will ask for a list, and a set is returned, or string is requested and list of words is returned.\n",
    "- Not testing solutions thoroughly\n",
    " - When the exercise asks you to test your solution in a new cell, you should test your solution on several different input arguments. Just because your code works on one example, does not mean it will work on all perfectly reasonable inputs, which may be used when grading.\n",
    "  - You should strive to test your code with edgecase inputs (like negative numbers, different sized lists, zero/empty lists, etc). This depends on what your function is supposed to do.\n",
    "  - Another reason your code may not work is that you have defined variables that you later deleted, but were integral to running the code is your notebook. As long as your continue to run the notebook, the variables are still accessible, but the TA will not be able to run the code when a new instance of the notebook is opened because those variables don't exist anywhere. A good way to combat this is by exiting the notebook/restarting your kernel and clearing all your outputs. Try running all the cells in order now and see if your code runs into any errors.\n",
    "- Hard-coding values into their functions\n",
    " - The exercise may ask that your function uses arguments to generalize your code (On lab 3, for example, you had to make your create board function allow you to specify N so that it could create it NxN). \n",
    " \n",
    "- Not attempting the exercise or copy/pasting previous solution attempts\n",
    " - Several of the exercises will build on each other but simply copy/pasting a previous solution (which does not address/or solve the current exercise) is not enough to get credit for the problem. Related exercises will of course have similar code so it is reasonable to copy/paste your old function and update it if needed, but you should not try to cheat the grading system by copy/pasting one of your solutions for each problem to get 'partial credit' for attempting them.\n",
    "- Copying solutions from others without attribution\n",
    " - The purpose of these labs is to help you develop fundamental datascience skills. Knowing how to use the internet to help you solve problems and resolve technical errors is certainly an important skill, and encouraged. That said, copy/pasting solutions from stackoverflow et al., can be counter-productive to your learning if you're not taking the time to understand all the details of the implementation. You should cite solutions by pasting a comment next to the code with a link to the source. \n",
    " - You should abide by UTA's honor code and the syllabus by refraining from copying solutions from students in the class.\n",
    "\n",
    " "
   ]
  },
  {
   "cell_type": "markdown",
   "metadata": {},
   "source": [
    "## For Loops\n",
    "\n",
    "The different between looping over indices, elements \\[of a list\\], or both.\n",
    "\n"
   ]
  },
  {
   "cell_type": "code",
   "execution_count": 6,
   "metadata": {},
   "outputs": [
    {
     "name": "stdout",
     "output_type": "stream",
     "text": [
      "Example 1\n",
      "0\n",
      "323\n",
      "1\n",
      "34834\n",
      "cats\n",
      "-2.2\n",
      "Example 2\n",
      "0\n",
      "0\n",
      "1\n",
      "323\n",
      "2\n",
      "1\n",
      "3\n",
      "34834\n",
      "4\n",
      "cats\n",
      "5\n",
      "-2.2\n",
      "Example 3\n",
      "0 0\n",
      "1 323\n",
      "2 1\n",
      "3 34834\n",
      "4 cats\n",
      "5 -2.2\n"
     ]
    }
   ],
   "source": [
    "data = [0, 323, 1, 34834, 'cats', -2.2]\n",
    "\n",
    "print('Example 1')\n",
    "# Prints elements of data, each iteration updates i to next item in list from left to right.\n",
    "\n",
    "for i in data:\n",
    "    print(i)\n",
    "    \n",
    "print('Example 2')\n",
    "    \n",
    "for i in range(len(data)):\n",
    "    print(i)\n",
    "    print(data[i])\n",
    "\n",
    "print('Example 3')\n",
    "\n",
    "for index, element in enumerate(data):\n",
    "    print(index, element)"
   ]
  },
  {
   "cell_type": "markdown",
   "metadata": {},
   "source": [
    "## Difference between if if else, and if elif else"
   ]
  },
  {
   "cell_type": "code",
   "execution_count": 1,
   "metadata": {},
   "outputs": [],
   "source": [
    "def is_num_bigger(num):\n",
    "    if num > 10:\n",
    "        print('Num is bigger than 10')\n",
    "    if num > 20: \n",
    "        print('Num is bigger than 20')\n",
    "    \n",
    "    if num > 30: \n",
    "        print('Num is bigger than 30')\n",
    "    else:\n",
    "        print('Num is not bigger than 30')\n",
    "\n",
    "def is_num_bigger_two(num):\n",
    "    if num > 10:\n",
    "        print('Num is bigger than 10')\n",
    "    elif num > 20: \n",
    "        print('Num is bigger than 20')\n",
    "    elif num > 30: \n",
    "        print('Num is bigger than 30')\n",
    "    else:\n",
    "        print('Num is not bigger than 30')\n"
   ]
  },
  {
   "cell_type": "code",
   "execution_count": 2,
   "metadata": {},
   "outputs": [
    {
     "name": "stdout",
     "output_type": "stream",
     "text": [
      "First Function\n",
      "Number testing is: 6\n",
      "Num is not bigger than 30\n",
      "Number testing is: 15\n",
      "Num is bigger than 10\n",
      "Num is not bigger than 30\n",
      "Number testing is: 35\n",
      "Num is bigger than 10\n",
      "Num is bigger than 20\n",
      "Num is bigger than 30\n",
      "Number testing is: 22\n",
      "Num is bigger than 10\n",
      "Num is bigger than 20\n",
      "Num is not bigger than 30\n",
      "Number testing is: -5\n",
      "Num is not bigger than 30\n",
      "Second Function\n",
      "Number testing is: 6\n",
      "Num is not bigger than 30\n",
      "Number testing is: 15\n",
      "Num is bigger than 10\n",
      "Number testing is: 35\n",
      "Num is bigger than 10\n",
      "Number testing is: 22\n",
      "Num is bigger than 10\n",
      "Number testing is: -5\n",
      "Num is not bigger than 30\n"
     ]
    }
   ],
   "source": [
    "numbers = [6, 15, 35, 22, -5]\n",
    "\n",
    "print('First Function')\n",
    "\n",
    "for number in numbers:\n",
    "    print('Number testing is:', number)\n",
    "    is_num_bigger(number)\n",
    "    \n",
    "print('Second Function')\n",
    "\n",
    "for number in numbers:\n",
    "    print('Number testing is:', number)\n",
    "    is_num_bigger_two(number)\n",
    "    \n",
    "# Illustrate function name changes, but old function persists"
   ]
  },
  {
   "cell_type": "markdown",
   "metadata": {},
   "source": [
    "## Assigning to built-in functions"
   ]
  },
  {
   "cell_type": "code",
   "execution_count": 3,
   "metadata": {},
   "outputs": [
    {
     "name": "stdout",
     "output_type": "stream",
     "text": [
      "-5\n",
      "-5\n"
     ]
    },
    {
     "ename": "TypeError",
     "evalue": "'int' object is not callable",
     "output_type": "error",
     "traceback": [
      "\u001b[0;31m---------------------------------------------------------------------------\u001b[0m",
      "\u001b[0;31mTypeError\u001b[0m                                 Traceback (most recent call last)",
      "\u001b[0;32m<ipython-input-3-9ae406615829>\u001b[0m in \u001b[0;36m<module>\u001b[0;34m\u001b[0m\n\u001b[1;32m      8\u001b[0m \u001b[0mnew_numbers\u001b[0m \u001b[0;34m=\u001b[0m \u001b[0;34m[\u001b[0m\u001b[0;34m-\u001b[0m\u001b[0;36m6\u001b[0m\u001b[0;34m,\u001b[0m \u001b[0;34m-\u001b[0m\u001b[0;36m15\u001b[0m\u001b[0;34m,\u001b[0m \u001b[0;34m-\u001b[0m\u001b[0;36m35\u001b[0m\u001b[0;34m,\u001b[0m \u001b[0;34m-\u001b[0m\u001b[0;36m22\u001b[0m\u001b[0;34m,\u001b[0m \u001b[0;36m5\u001b[0m\u001b[0;34m]\u001b[0m\u001b[0;34m\u001b[0m\u001b[0;34m\u001b[0m\u001b[0m\n\u001b[1;32m      9\u001b[0m \u001b[0;34m\u001b[0m\u001b[0m\n\u001b[0;32m---> 10\u001b[0;31m \u001b[0mprint\u001b[0m\u001b[0;34m(\u001b[0m\u001b[0mmin\u001b[0m\u001b[0;34m(\u001b[0m\u001b[0mnew_numbers\u001b[0m\u001b[0;34m)\u001b[0m\u001b[0;34m)\u001b[0m \u001b[0;31m# be careful about assigning to built-in functions.\u001b[0m\u001b[0;34m\u001b[0m\u001b[0;34m\u001b[0m\u001b[0m\n\u001b[0m\u001b[1;32m     11\u001b[0m \u001b[0;31m# If jupyter highlights the word, good chance it is a built-in/keyword.\u001b[0m\u001b[0;34m\u001b[0m\u001b[0;34m\u001b[0m\u001b[0;34m\u001b[0m\u001b[0m\n",
      "\u001b[0;31mTypeError\u001b[0m: 'int' object is not callable"
     ]
    }
   ],
   "source": [
    "numbers = [6, 15, 35, 22, -5]\n",
    "print(min(numbers))\n",
    "\n",
    "min = min(numbers)\n",
    "\n",
    "print(min)\n",
    "\n",
    "new_numbers = [-6, -15, -35, -22, 5]\n",
    "\n",
    "print(min(new_numbers)) # be careful about assigning to built-in functions.\n",
    "# If jupyter highlights the word, good chance it is a built-in/keyword."
   ]
  },
  {
   "cell_type": "code",
   "execution_count": null,
   "metadata": {},
   "outputs": [],
   "source": []
  }
 ],
 "metadata": {
  "kernelspec": {
   "display_name": "Python 3",
   "language": "python",
   "name": "python3"
  },
  "language_info": {
   "codemirror_mode": {
    "name": "ipython",
    "version": 3
   },
   "file_extension": ".py",
   "mimetype": "text/x-python",
   "name": "python",
   "nbconvert_exporter": "python",
   "pygments_lexer": "ipython3",
   "version": "3.8.1"
  }
 },
 "nbformat": 4,
 "nbformat_minor": 4
}
